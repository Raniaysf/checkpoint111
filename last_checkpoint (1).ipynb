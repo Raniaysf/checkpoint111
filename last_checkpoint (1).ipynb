{
  "nbformat": 4,
  "nbformat_minor": 0,
  "metadata": {
    "colab": {
      "name": "last checkpoint.ipynb",
      "provenance": [],
      "collapsed_sections": []
    },
    "kernelspec": {
      "name": "python3",
      "display_name": "Python 3"
    }
  },
  "cells": [
    {
      "cell_type": "markdown",
      "metadata": {
        "id": "YEPzaOipF-iw"
      },
      "source": [
        "# <center> Last chechpoint: **Let's rectify our errors**\n",
        "\n",
        "---\n",
        "\n"
      ]
    },
    {
      "cell_type": "code",
      "metadata": {
        "id": "Q98ReRYr4yi9"
      },
      "source": [
        "liste=[\"hello\", 5, True]\n",
        "liste[len(liste)]  "
      ],
      "execution_count": null,
      "outputs": []
    },
    {
      "cell_type": "code",
      "metadata": {
        "id": "XEq2jIiP5Mxk"
      },
      "source": [
        "import Numpy"
      ],
      "execution_count": null,
      "outputs": []
    },
    {
      "cell_type": "code",
      "metadata": {
        "id": "I-cuQi245SoS"
      },
      "source": [
        "import Pandas as pd"
      ],
      "execution_count": null,
      "outputs": []
    },
    {
      "cell_type": "code",
      "metadata": {
        "id": "3jgy2N5q5bJK"
      },
      "source": [
        "print[\"hello\"] #Missing parentheses in call to print not ()"
      ],
      "execution_count": null,
      "outputs": []
    },
    {
      "cell_type": "code",
      "metadata": {
        "id": "iE246E8w5iLa"
      },
      "source": [
        "dic={True:\"hello\", 5:\"bye\", 'false':\"thank you\"}\n",
        "dic['5']"
      ],
      "execution_count": null,
      "outputs": []
    },
    {
      "cell_type": "code",
      "metadata": {
        "id": "WJCXf7mdFBTe"
      },
      "source": [
        "liste=[\"hello\", 5, True]\n",
        "for i in liste :\n",
        "print[i]"
      ],
      "execution_count": null,
      "outputs": []
    },
    {
      "cell_type": "code",
      "metadata": {
        "id": "-vBDa6u2FSyg"
      },
      "source": [
        "it=iter([1,2,3]) #StopIteration\n",
        "next(it)\n",
        "next(it)\n",
        "next(it)\n",
        "next(it) "
      ],
      "execution_count": null,
      "outputs": []
    },
    {
      "cell_type": "code",
      "metadata": {
        "id": "evUhcCbUFViZ"
      },
      "source": [
        "True + \"True\""
      ],
      "execution_count": null,
      "outputs": []
    },
    {
      "cell_type": "code",
      "metadata": {
        "id": "qvMbCtDXFbIE"
      },
      "source": [
        "1+\"1\" #must be str, not int"
      ],
      "execution_count": null,
      "outputs": []
    },
    {
      "cell_type": "code",
      "metadata": {
        "id": "Ypa7y4CeFcym"
      },
      "source": [
        "int(\"hello\") #invalid literal for int() with base 10: 'xyz'"
      ],
      "execution_count": null,
      "outputs": []
    },
    {
      "cell_type": "code",
      "metadata": {
        "id": "0HaMnEFPFqHE"
      },
      "source": [
        "x=69/0 #division by zero"
      ],
      "execution_count": null,
      "outputs": []
    }
  ]
}